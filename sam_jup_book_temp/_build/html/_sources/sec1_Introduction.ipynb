{
 "cells": [
  {
   "cell_type": "markdown",
   "metadata": {
    "raw_mimetype": "text/restructuredtext"
   },
   "source": [
    "# 1 Introduction\n",
    "\n",
    "\n",
    "There are many calls for policy implementation to address climate change based on confidence in our knowledge of the adverse impact of economic activity on the climate, and conversely the negative effects of climate change on economic outcomes.   Our view is that the knowledge base to support quantitative modeling in the realm of climate change and elsewhere remains incomplete. While there is a substantial body of evidence supporting the adverse human imprint on the environment, uncertainty comes into play when we build quantitative models aimed at capturing the dynamic transmission of human activity on the climate and on how adaptation to climate change will play out over time.  It has been common practice  to shunt uncertainty to the background when building and using quantitative models in many\n",
    "policy arenas.  To truly engage in \"evidence-based policy\" requires that we are clear both about the quality of the evidence and the sensitivity to the modeling inputs used to interpret the evidence.  The importance of quantifying uncertainty has been stressed and implemented in a variety of scientific settings.  Our aim is to explore ways to incorporate this uncertainty for the purposes of making quantitative assessments of alternative courses of action.  We see this as much more than putting standard errors on econometric estimates, and we turn to developments in dynamic decision theory  as a guide to how we confront uncertainty in policy analysis.\n",
    "\n",
    "In climate economics, {cite:t}`2012:Weitzman`, {cite:t}`WagnerWeitzman:2015` and others have emphasized uncertainty in the  climate system's dynamics and how this uncertainty could create fat-tailed distributions of potential damages.\n",
    "Relatedly, {cite:t}`Pindyck:2013` and {cite:t}`MorganVaishnavDowlatabadiAzevedo:2017` find existing integrated assessment models in climate economics to be of little value in the actual prudent policy.  We are sympathetic to their skepticism, and are not offering simple repairs to the existing integrated assessment models in this area nor quick modifications to EPA postings for the social cost of carbon.  Nevertheless, we still find value in the use of models to engage in a form of \"quantitative storytelling\".   Instead of proceeding with separate analyses for each such model, we find value in model comparisons and seek a framework  for  \"quantitative storytelling\" with multiple models. Our aim is to explore ways to incorporate uncertainty explicitly into policy discussions with a more explicit accounting for the limits to our understanding.     Not only is there substantial uncertainty about the economic inputs, but also about the geoscientific inputs.\n",
    "\n",
    "Drawing on insights from decision theory and asset pricing, {cite:t}`BarnettBrockHansen:2020` proposed a framework for assessing uncertainty, broadly-conceived, to include ambiguity over alternative models and the potential form of the misspecification of each. In effect, they suggest methods for conducting structured uncertainty analyses. But their examples scratch the surface of the actual quantitative assessment of uncertainty  pertinent to the problem of climate change. In this paper, we explore more systematically the consequences of uncertainty coming from both geo-scientific and economic inputs.\n",
    "\n",
    "Decision theory provides tractable ways to explore a tradeoff between projecting the \"best guess\" consequences of alternative courses of action versus \"worst possible\" outcomes among a  set of alternative models.  Rather than focusing exclusively on these extremal points, we allow our decision maker to take intermediate positions in accordance with parameters that govern aversions to model ambiguity and potential misspecification.  We presume a decision maker confronts many dimensions of uncertainty and engages in a sensitivity analysis.   We use the social planner's decision problem to add structure to this sensitivity analysis and reduce a potentially high-dimensional sensitivity analysis to a very low-dimensional characterization of sensitivity parameterized by aversion to model ambiguity and potential misspecification.\n",
    "\n",
    "\n",
    "This paper takes inventory of the consequence of alternative sources of uncertainty and provides a novel way to assess it.  We consider three specific sources:\n",
    "\n",
    "\n",
    "- *carbon dynamics* mapping carbon emissions into  carbon in the atmosphere\n",
    "\n",
    "- *temperature dynamics* mapping carbon in the atmosphere into  temperature changes\n",
    "\n",
    "- *economic damage functions* that depict the fraction of the productive capacity that is reduced by temperature changes\n",
    "\n",
    "\n",
    "We necessarily adopt some stark simplifications to make this analysis tractable.  Many of the climate models are of both high dimension and nonlinear.  Rather than using those models directly, we rely on outcomes of pulse experiments applied to the models.  We then take the outcomes of these pulse experiments as inputs into our simplified specification of the climate dynamics inside our economic model.  We follow much of the environmental macroeconomic modeling literature in the use of *ad hoc* static damage functions, and explore the consequences of changing the curvature in these damage functions.  Even with these simplifications, our uncertainty analysis is sufficiently rich to show how uncertainty about the alternative channels by which emissions induce economic damages interact in important ways. Modeling extensions that confront heterogeneity in exposure to climate change across regions will also open the door to the inclusion of cross-sectional evidence for measuring potential environmental damages.\n",
    "\n",
    "We use the social cost of carbon (SCC) as a barometer for investigating the consequences of uncertainty for climate policy. In settings with uncertainty, we depict this as an asset price.  The social counterpart to a cash flow is the impulse response from a marginal increase in  emissions to a marginal impact on damages induced by climate changes in future time periods.  This cash flow is discounted stochastically in ways that account for uncertainty.  This follows in part revealing discussions  in {cite:t}`Golosovetal:2014` and  {cite:t}`CaiJuddLontzek:2017`  who explore some of the risk consequences for the social cost of carbon. We extend this by taking a broader perspective on uncertainty. The common discussion in environmental economics about what \"rate\" should be used to discount future social costs is ill-posed for the model ambiguity that we feature. Rather than a single rate, we borrow and extend an idea from asset pricing by representing broadly based uncertainty adjustments as a change in probability over future outcomes for the macroeconomy.\n",
    "\n",
    "\n",
    "\n",
    "Finally, this paper extends previous work by \"opening the hood\" of climate change uncertainty and exploring which components have the biggest impact on valuation.  Rather than embrace a \"one-model-fits-all-type-of-approaches\" perspective, we give three computational examples designed to illustrate different points.\n",
    "The example presented in [Section 4](sec4_IllustrativeEconI.ipynb) is by far the most ambitious and sets the stage for the other two.  This first example explores what impact of future information about environmental and economic damages, triggered by temperature anomaly thresholds,  should have on current policy.  It adds a dynamic richness missing from other treatments of model uncertainty.  The second example,  presented in [Section 5](sec5_IllustrativeEconII.ipynb),  implements a novel decomposition of uncertainty assessing the relative importance of uncertainties in carbon dynamics, temperature dynamics and damage function uncertainty.  The approach that is described and implemented in [Section 5](sec5_IllustrativeEconIII.ipynb) is more generally applicable to other economic environments.   Finally, the third example investigates the  interacting implications of the uncertainties in the development of green technologies and in environmental damages  for prudent policy.  This example is developed  in [Section 6](sec6_IllustrativeEconIII.ipynb). \n",
    "\n",
    "In the next section, we elaborate on some the prior contributions that motivate our analysis.  \n"
   ]
  },
  {
   "cell_type": "markdown",
   "metadata": {},
   "source": [
    "**To next section:**\n",
    "\n",
    "[Section 2: Uncertainty climate dynamics](sec2_UncertainClimateDynamics.ipynb)"
   ]
  }
 ],
 "metadata": {
  "celltoolbar": "Raw Cell Format",
  "cite2c": {
   "citations": {
    "8831001/LXVVV6JK": {
     "DOI": "10.1111/j.1467-9779.2011.01539.x",
     "abstract": "A critical issue in climate change economics is the specifica- tion of the so-called “damages function” and its interaction with the unknown uncertainty of catastrophic outcomes. This paper asks how much we might be misled by our eco- nomic assessment of climate change when we employ a conventional quadratic damages function and/or a thin-tailed probability distribution for extreme temperatures. The paper gives some numerical examples of the indirect value of various greenhouse gas (GHG) concentration targets as insurance against catastrophic climate change temperatures and damages. These numerical exercises suggest that we might be underestimating considerably the welfare losses from uncertainty by using a quadratic damages function and/or a thin-tailed temperature distribution. In these examples, the primary reason for keeping GHG levels down is to insure against high-temperature catastrophic climate risks.",
     "author": [
      {
       "family": "Weitzman",
       "given": "Martin L."
      }
     ],
     "container-title": "Journal of Public Economic Theory",
     "id": "8831001/LXVVV6JK",
     "issue": "2",
     "issued": {
      "year": 2012
     },
     "page": "221–244",
     "page-first": "221",
     "title": "GHG Targets as Insurance Against Catastrophic Climate Damages",
     "type": "article-journal",
     "volume": "14"
    }
   }
  },
  "interpreter": {
   "hash": "d0d76abfdbb0076f7950f4feef2921e737fada20a629e84883a54ca9388c8f4e"
  },
  "kernelspec": {
   "display_name": "Python 3",
   "language": "python",
   "name": "python3"
  },
  "language_info": {
   "codemirror_mode": {
    "name": "ipython",
    "version": 3
   },
   "file_extension": ".py",
   "mimetype": "text/x-python",
   "name": "python",
   "nbconvert_exporter": "python",
   "pygments_lexer": "ipython3",
   "version": "3.8.5"
  }
 },
 "nbformat": 4,
 "nbformat_minor": 5
}
