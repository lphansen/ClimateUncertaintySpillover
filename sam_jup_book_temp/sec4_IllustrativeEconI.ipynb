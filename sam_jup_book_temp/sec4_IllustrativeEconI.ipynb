{
 "cells": [
  {
   "cell_type": "markdown",
   "metadata": {},
   "source": [
    "The notebooks proceed with three example economies with different features:\n",
    "\n",
    "- the first one features damage function uncertainty and its resolution (demostrated in this notebook);\n",
    "- the second features a novel uncertainty decomposition that incorporates robustness to model ambiguity and misspecification ([Section 5](sec5_IllustrativeEconII.ipynb));\n",
    "- the investigates the impact of uncertain advances in the availability of less carbon-intensive technologies ([Section 6](sec6_IllustrativeEconIII.ipynb)).\n",
    "\n",
    "# 4 Illustrative economy I: uncertain damages\n",
    "\n",
    "\n",
    "We pose  an  $AK$ technology for which output is\n",
    "proportional to capital and can be allocated  between investment  and consumption. Capital in this specification should be broadly conceived. Suppose that there are adjustment costs to capital that are represented as the product of capital\n",
    "times a quadratic function of the investment-capital ratio.\n",
    "Given the output constraint and capital evolution imposed by  the $AK$ technology, it suffices to let  the planner choose the\n",
    "investment-capital ratio.\n",
    "\n",
    "\n",
    "Formally, \"undamaged\" capital evolves as\n",
    "\n",
    "$$\n",
    "d K_t =  K_t   \\left[ \\mu_k (Z_t) dt + \\left({\\frac {I_t}{K_t}} \\right)dt - {\\frac { \\kappa} 2} \\left( {\\frac {I_t} {K_t}} \\right)^2 dt\n",
    "+ \\sigma_k(Z_t) dW_t^k \\right]\n",
    "$$\n",
    "\n",
    "where $K_t$ is the capital stock and $I_t$ is investment.\n",
    "The capital evolution expressed in logarithms is\n",
    "\n",
    "$$\n",
    "d\\log K_t =  \\left[ \\mu_k (Z_t)    + \\left({\\frac {I_t}{K_t}} \\right)  -\n",
    "{\\frac { \\kappa} 2} \\left( {\\frac {I_t} {K_t}} \\right)^2 \\right] dt -  {\\frac  {\\vert \\sigma_k(Z_t) \\vert^2}  2}dt+ \\sigma_k(Z_t) dW_t^k ,\n",
    "$$\n",
    "\n",
    "The sum of consumption, $C_t$, and investment, $I_t$, are constrained to be proportional to capital:\n",
    "\n",
    "$$\n",
    "C_t + I_t = \\alpha K_t\n",
    "$$\n",
    "\n",
    "\n",
    "Next, we consider environmental damages.\n",
    "We suppose that temperature shifts proportionately consumption and capital by a multiplicative factor\n",
    "$N_t$  that captures damages to the productive capacity induced by climate change.  For instance, the\n",
    "damage adjusted consumption is ${\\widetilde C}_t =  {\\frac {C_t}{N_t}}$ and the damage adjusted capital is ${\\widetilde K}_t = {\\frac {{K}_t }{N_t}}$.  \n",
    "\n",
    "\n",
    "Planner preferences are time-separable with  a unitary elasticity of substitution. The planner's instantaneous utility from \"damaged consumption\" and emissions is given by:\n",
    "\n",
    "\\begin{align*}\n",
    "&  (1-\\eta) \\log {\\tilde C}_t +  \\eta \\log {\\mathcal E}_t   \\cr & = (1-\\eta)( \\log C_t -\\log K_t ) +  (1-\\eta)( \\log K_t - \\log N_t)   + \\eta \\log {\\mathcal E}_t\n",
    "\\end{align*}\n",
    "\n",
    "We let $\\delta$ be the subjective rate of discount used in preferences.\n",
    "We can think of emissions and consumption as distinct goods, or we can think of $\\widetilde{C}_t$ as an intermediate good that when combined with emissions determines final consumption.\n",
    "\n",
    "\n",
    ">**Note**\n",
    "> \n",
    ">*We obtain a further simplication by letting:*\n",
    ">\n",
    ">$$\\widetilde{\\mathcal{E}}_t = \\mathcal{E}_t (\\iota_y \\cdot Z_t)$$\n",
    ">\n",
    ">*We use $\\widetilde{\\mathcal{E}}_t$ as the control variable and then deduce the implications for $\\mathcal{E}_t$*.\n",
    "\n",
    "\n",
    "## 4.1 HJB equations and robustness\n",
    "\n",
    "The uncertainty that we consider has a single jump point after which the damage function uncertainty is revealed.  This leads us to compute continuation value functions conditioned on each of the damage function specifications.  These continuation value functions then are used to summarize post-jump outcomes when we compute the initial value function.  We describe the Hamilton-Jacobi-Bellman (HJB) equations for each of these steps in what follows. The computational methods are described in the [appendix](appendices.ipynb).\n",
    "\n",
    "\n",
    "The parameter values are as follows:\n",
    "\n",
    "| Parameters | values |\n",
    "| :---:| :---|\n",
    "|$\\delta$ |  0.01 |\n",
    "|$\\eta$ | 0.032 | \n",
    "|$\\varsigma'$| [2.23, 0, 0]|\n",
    "\n",
    "Damage parameters are described in section 3 (TODO).\n",
    "\n",
    "The penalty paramters are $\\xi_a$ and $\\xi_r$. Without specifically pointed out, $\\xi_a = 0.01$ in this example. And the $\\xi_r$ values we experiment with are $\\{+ \\infty, 5, 1, 0.3\\}$.\n",
    "\n",
    "### 4.1.1 Post-jump continuation value functions\n",
    "\n",
    "\n",
    "Conditioned on each of the damage functions, $m = 1, 2, \\dots, 20$. Solve for the corresponding $\\phi_m(y)$:\n",
    "\n",
    "$$\n",
    "\\begin{align*}\n",
    "0 = \\max_{\\tilde e}  \\min_h \\min_{\\omega_j, \\sum_{\\ell =1}^L \\omega_\\ell  = 1}\n",
    "& - \\delta \\phi_m(y)    +  \\eta \\log \\tilde e    \\cr\n",
    "& + \\frac {d \\phi_m(y)}{d y} {\\tilde e}  \\varsigma \\cdot h  + {\\frac {(\\eta - 1)} \\delta }\\left[\\gamma_1 +  \\gamma_2 y + \\gamma_3^m (y- {\\overline y} ) \\right] {\\tilde e} \\varsigma \\cdot h + {\\frac {\\xi_r} 2} h'h \\cr \n",
    "& + \\frac {d \\phi_m(y)}{d y}  \\sum_{\\ell=1}^L \\omega_\\ell  \\theta_\\ell {\\tilde e} + {\\frac 1 2} \\frac {d^2 \\phi_m(y)}{(dy)^2} |\\varsigma|^2 \\tilde e^2  \\cr\n",
    "&+ {\\frac {(\\eta - 1)} \\delta}  \\left( \\left[ \\gamma_1 + \\gamma_2 y + \\gamma_3^m (y - \\overline y) \\right]   \\sum_{\\ell=1}^L \\omega_\\ell \\theta_\\ell {\\tilde e} + {\\frac 1 2} (\\gamma_2 + \n",
    "\\gamma_3^m) |\\varsigma|^2 \\tilde e^2 \\right) \\cr\n",
    "&+ \\xi_a \\sum_{\\ell = 1}^L \\omega_\\ell \\left( \\log \\omega_\\ell - \\log \\pi_\\ell \\right).\n",
    "\\end{align*}\n",
    "$$"
   ]
  },
  {
   "cell_type": "code",
   "execution_count": 1,
   "metadata": {},
   "outputs": [],
   "source": [
    "import numpy as np\n",
    "import pandas as pd\n",
    "import plotly.offline as pyo  #Added for Jupyer Books Purpose\n",
    "from IPython.core.display import display, HTML #Added for Jupyer Books Purposes\n",
    "from src.model import solve_hjb_y, solve_hjb_y_jump\n",
    "from src.utilities import find_nearest_value, solve_post_jump\n",
    "from src.simulation import simulate_jump, no_jump_simulation\n",
    "import pickle"
   ]
  },
  {
   "cell_type": "code",
   "execution_count": 2,
   "metadata": {},
   "outputs": [],
   "source": [
    "# Preference\n",
    "η = 0.032\n",
    "δ = 0.01\n",
    "\n",
    "# Climate sensitivity\n",
    "θ_list = pd.read_csv('data/model144.csv', header=None).to_numpy()[:, 0] / 1000.\n",
    "πc_o = np.ones_like(θ_list) / len(θ_list)\n",
    "\n",
    "# Damage functions\n",
    "σ_y = 1.2 * np.mean(θ_list)\n",
    "y_underline = 1.5\n",
    "y_bar = 2.\n",
    "γ_1 = 1.7675 / 10000\n",
    "γ_2 = 0.0022 * 2\n",
    "γ_3 = np.linspace(0., 1. / 3, 20)\n",
    "πd_o = np.ones_like(γ_3) / len(γ_3)\n",
    "\n",
    "# capital evolution\n",
    "α = 0.115\n",
    "i_over_k = 0.09\n",
    "K0 = 85 / α\n",
    "\n",
    "# state variable\n",
    "y_step = .01\n",
    "y_grid_long = np.arange(0., 5., y_step)\n",
    "y_grid_short = np.arange(0., 2.1 + y_step, y_step)\n",
    "n_bar = find_nearest_value(y_grid_long, y_bar) "
   ]
  },
  {
   "cell_type": "code",
   "execution_count": null,
   "metadata": {
    "scrolled": true
   },
   "outputs": [],
   "source": [
    "# Prepare ϕ conditional on low, high, extreme damage\n",
    "v_list = {}\n",
    "e_tilde_list = {}\n",
    "for ξ_r, ξ_a in [(100_000, 100_000), (5., 0.01), (1., 0.01), (0.3, 0.01)]:\n",
    "    model_args_list = []\n",
    "    for γ_3_m in γ_3:\n",
    "        model_arg = (η, δ, σ_y, y_bar, γ_1, γ_2, γ_3_m, θ_list, πc_o, ξ_r, ξ_a)\n",
    "        model_args_list.append((y_grid_long, model_arg, None, 1., 1e-8, 5_000, False))\n",
    "    v_list[ξ_r], e_tilde_list[ξ_r] = solve_post_jump(y_grid_long, γ_3, solve_hjb_y, model_args_list)"
   ]
  },
  {
   "cell_type": "code",
   "execution_count": null,
   "metadata": {},
   "outputs": [],
   "source": [
    "pickle.dump(v_list, open(\"v_list\", \"wb\"))\n",
    "pickle.dump(e_tilde_list, open(\"e_tilde_list\", \"wb\"))\n",
    "v_list = pickle.load(open(\"v_list\", \"rb\"))\n",
    "e_tilde_list = pickle.load(open(\"e_tilde_list\", \"rb\"))"
   ]
  },
  {
   "cell_type": "markdown",
   "metadata": {},
   "source": [
    "### 4.1.2 Pre-jump value function\n",
    "\n",
    "The pre-jump value function has a similar structure with two exceptions:\n",
    "  -  we include the intensity function discussed earlier and \n",
    "  -  we introduce robustness concerns for both the \n",
    "intensity and distribution over the alternative $\\gamma_3^m$ coefficients.  \n",
    "\n",
    "Given these modifications, we include:\n",
    "\n",
    "\n",
    "$$\n",
    "\\mathcal J (y) \\sum_{m=1}^M g_m \\pi_m \\left[ \\phi_m(\\overline y) - \\phi(y) \\right]\n",
    "+ \\xi_r {\\mathcal J}(y)  \\sum_{m=1}^M \\pi_m \\left( 1 - g_m + g_m \\log g_m \\right)\\pi_m \n",
    "$$\n",
    "\n",
    "in the HJB and solve for pre-jump value function $\\phi(y)$ on $[0, \\overline{y}]$:\n",
    "\n",
    "$$\n",
    "\\begin{align*}\n",
    "0 = \\max_{\\tilde e}  \\min_h \\min_{\\omega_j, \\sum_{\\ell =1}^L \\omega_\\ell  = 1} \\min_{g_m \\geqslant 0}\n",
    "& - \\delta \\phi(y)    +  \\eta \\log \\tilde e    \\cr\n",
    "& + \\frac {d \\phi(y)}{d y} {\\tilde e}  \\varsigma \\cdot h  + {\\frac {(\\eta - 1)} \\delta }\\left[\\gamma_1 +  \\gamma_2 y) \\right] {\\tilde e} \\varsigma \\cdot h + {\\frac {\\xi_r} 2} h'h \\cr \n",
    "& + \\frac {d \\phi(y)}{d y}  \\sum_{\\ell=1}^L \\omega_\\ell  \\theta_\\ell {\\tilde e} + {\\frac 1 2} \\frac {d^2 \\phi(y)}{(dy)^2} |\\varsigma|^2 \\tilde e^2  \\cr\n",
    "&+ {\\frac {(\\eta - 1)} \\delta}  \\left( \\left[ \\gamma_1 + \\gamma_2 y\\right]   \\sum_{\\ell=1}^L \\omega_\\ell \\theta_\\ell {\\tilde e} + {\\frac 1 2} \\gamma_2  |\\varsigma|^2 \\tilde e^2 \\right) \\cr\n",
    "&+ \\xi_a \\sum_{\\ell = 1}^L \\omega_\\ell \\left( \\log \\omega_\\ell - \\log \\pi_\\ell \\right)\\cr\n",
    "&+ \\mathcal J (y) \\sum_{m=1}^M g_m \\pi_m \\left[ \\phi_m(\\overline y) - \\phi(y) \\right]\n",
    "+ \\xi_r {\\mathcal J}(y)  \\sum_{m=1}^M \\pi_m \\left( 1 - g_m + g_m \\log g_m \\right)\\pi_m \n",
    "\\end{align*}\n",
    "$$"
   ]
  },
  {
   "cell_type": "code",
   "execution_count": null,
   "metadata": {
    "scrolled": true
   },
   "outputs": [],
   "source": [
    "pre_jump_res = {}\n",
    "ξ_r_list = [100_000, 5., 1., 0.3]\n",
    "for ξ_r_i in ξ_r_list:\n",
    "    ϕ_list = v_list[ξ_r_i]\n",
    "    certainty_equivalent = -ξ_r_i * np.log(\n",
    "        np.average(\n",
    "            np.exp(-1. / ξ_r_i * np.array(ϕ_list)), axis=0, weights=πd_o))\n",
    "    # Change grid from 0-4 to 0-2\n",
    "    ϕ_i = np.array(\n",
    "        [temp[n_bar] * np.ones_like(y_grid_short) for temp in ϕ_list])\n",
    "\n",
    "    # Compute ϕ with jump (impose boundary condition)\n",
    "    if ξ_r_i == 100_000:\n",
    "        ξ_a = 100_000\n",
    "    else:\n",
    "        ξ_a = 0.01\n",
    "    model_args = (η, δ, σ_y, y_underline, y_bar, γ_1, γ_2, γ_3, θ_list, πc_o, ϕ_i, πd_o,\n",
    "                  ξ_r_i, ξ_r_i, ξ_a)\n",
    "    model_res = solve_hjb_y_jump(y_grid_short,\n",
    "                                 model_args,\n",
    "                                 v0=None,\n",
    "                                 ϵ=1.,\n",
    "                                 tol=1e-8,\n",
    "                                 max_iter=5_000,\n",
    "                                 print_iteration=False)\n",
    "    simulation_res = no_jump_simulation(model_res, dt=1/4)\n",
    "    pre_jump_res[ξ_r_i] = dict(model_res=model_res,\n",
    "                           simulation_res=simulation_res,\n",
    "                           certainty_equivalent=certainty_equivalent)"
   ]
  },
  {
   "cell_type": "code",
   "execution_count": null,
   "metadata": {},
   "outputs": [],
   "source": [
    "# pickle.dump(pre_jump_res, open(\"pre_jump_res\", \"wb\"))\n",
    "pre_jump_res = pickle.load(open(\"pre_jump_res\", \"rb\"))"
   ]
  },
  {
   "cell_type": "markdown",
   "metadata": {},
   "source": [
    "### Robust adjustment to climate model uncertainty"
   ]
  },
  {
   "cell_type": "code",
   "execution_count": null,
   "metadata": {
    "scrolled": false
   },
   "outputs": [],
   "source": [
    "from src.plots import plot5\n",
    "pyo.plot(plot5(pre_jump_res), filename = 'plot5_pre_jump_res.html' ) \n",
    "display(HTML('plot5_pre_jump_res.html'))\n"
   ]
  },
  {
   "cell_type": "markdown",
   "metadata": {},
   "source": [
    "### Robust adjustments to damage function uncertainty\n"
   ]
  },
  {
   "cell_type": "code",
   "execution_count": null,
   "metadata": {
    "scrolled": false
   },
   "outputs": [],
   "source": [
    "from src.plots import plot6\n",
    "pyo.plot(plot6(pre_jump_res), filename = 'plot6_pre_jump_res.html' ) \n",
    "display(HTML('plot5_pre_jump_res.html'))\n"
   ]
  },
  {
   "cell_type": "code",
   "execution_count": null,
   "metadata": {},
   "outputs": [],
   "source": [
    "from src.plots import plot7\n",
    "plot7(pre_jump_res)"
   ]
  },
  {
   "cell_type": "markdown",
   "metadata": {},
   "source": [
    "### Emission and anomaly trajectories\n",
    "\n",
    "The figure shows emission as a function of temperature anomaly.\n",
    "\n",
    "For $\\underline y = 1.5$ and $\\overline y = 2$, and $\\underline y = 1.75$ and $\\overline y = 2.25$"
   ]
  },
  {
   "cell_type": "code",
   "execution_count": null,
   "metadata": {},
   "outputs": [],
   "source": [
    "# Repeat for 1.75 - 2.25\n",
    "y_underline_higher = 1.75\n",
    "y_bar_higher = 2.25\n",
    "# state variable\n",
    "y_step = .01\n",
    "y_grid_short_2 = np.arange(0., 2.3 + y_step, y_step)\n",
    "n_bar = find_nearest_value(y_grid_long, y_bar_higher)"
   ]
  },
  {
   "cell_type": "code",
   "execution_count": null,
   "metadata": {},
   "outputs": [],
   "source": [
    "# post jump value functions\n",
    "v175_list = {}\n",
    "e175_tilde_list = {}\n",
    "for ξ_r, ξ_a in [(100_000, 100_000), (5., 0.01), (1., 0.01), (0.3, 0.01)]:\n",
    "    model_args_list = []\n",
    "    for γ_3_m in γ_3:\n",
    "        model_arg = (η, δ, σ_y, y_bar_higher, γ_1, γ_2, γ_3_m, θ_list, πc_o,\n",
    "                     ξ_r, ξ_a)\n",
    "        model_args_list.append(\n",
    "            (y_grid_long, model_arg, None, 1., 1e-8, 5_000, False))\n",
    "    v175_list[ξ_r], e175_tilde_list[ξ_r] = solve_post_jump(\n",
    "        y_grid_long, γ_3, solve_hjb_y, model_args_list)\n",
    "\n",
    "# pre jump value function"
   ]
  },
  {
   "cell_type": "code",
   "execution_count": null,
   "metadata": {
    "scrolled": true
   },
   "outputs": [],
   "source": [
    "pre_jump175_res = {}\n",
    "ξ_r_list = [100_000, 5., 1., 0.3]\n",
    "for ξ_r_i in ξ_r_list:\n",
    "    ϕ_list = v175_list[ξ_r_i]\n",
    "    certainty_equivalent = -ξ_r_i * np.log(\n",
    "        np.average(\n",
    "            np.exp(-1. / ξ_r_i * np.array(ϕ_list)), axis=0, weights=πd_o))\n",
    "    # Change grid from 0-4 to 0-2\n",
    "    ϕ_i = np.array(\n",
    "        [temp[n_bar] * np.ones_like(y_grid_short_2) for temp in ϕ_list])\n",
    "\n",
    "    # Compute ϕ with jump (impose boundary condition)\n",
    "    if ξ_r_i == 100_000:\n",
    "        ξ_a = 100_000\n",
    "    else:\n",
    "        ξ_a = 0.01\n",
    "    model_args = (η, δ, σ_y, y_underline_higher, y_bar_higher, γ_1, γ_2, γ_3,\n",
    "                  θ_list, πc_o, ϕ_i, πd_o, ξ_r_i, ξ_r_i, ξ_a)\n",
    "    model_res = solve_hjb_y_jump(y_grid_short_2,\n",
    "                                 model_args,\n",
    "                                 v0=None,\n",
    "                                 ϵ=1.,\n",
    "                                 tol=1e-8,\n",
    "                                 max_iter=5_000,\n",
    "                                 print_iteration=False)\n",
    "    simulation_res = no_jump_simulation(model_res, dt=1 / 4)\n",
    "    pre_jump175_res[ξ_r_i] = dict(model_res=model_res,\n",
    "                                  simulation_res=simulation_res,\n",
    "                                  certainty_equivalent=certainty_equivalent)"
   ]
  },
  {
   "cell_type": "code",
   "execution_count": null,
   "metadata": {},
   "outputs": [],
   "source": [
    "# pickle.dump(v175_list, open(\"v175_list\", \"wb\"))\n",
    "# pickle.dump(e175_tilde_list, open(\"e175_tilde_list\", \"wb\"))\n",
    "# pickle.dump(pre_jump175_res, open(\"pre_jump175_res\", \"wb\"))\n",
    "pre_jump175_res = pickle.load(open(\"pre_jump175_res\", \"rb\"))"
   ]
  },
  {
   "cell_type": "code",
   "execution_count": null,
   "metadata": {},
   "outputs": [],
   "source": [
    "from src.plots import plot89\n",
    "\n",
    "plot8 = plot89(pre_jump_res, y_grid_short_2, y_underline)\n",
    "plot8.update_layout(\n",
    "    title=\n",
    "    r\"\"\"Figure 8 : Emissions as a function of the temperature anomaly. <br>\n",
    "    The thresholds are y̲ = 1.5 and ȳ = 2.0.\n",
    "   \"\"\"\n",
    ")"
   ]
  },
  {
   "cell_type": "code",
   "execution_count": null,
   "metadata": {},
   "outputs": [],
   "source": [
    "plot9 = plot89(pre_jump175_res, y_grid_short_2, y_underline_higher)\n",
    "plot9.update_layout(\n",
    "    title=\n",
    "    r\"\"\"Figure 9 : Emissions as a function of the temperature anomaly. <br>\n",
    "    The thresholds are y̲ = 1.75 and ȳ = 2.25.\n",
    "   \"\"\"\n",
    ")"
   ]
  },
  {
   "cell_type": "markdown",
   "metadata": {},
   "source": [
    "The figure shows $\\log SCC$ as a function of temperature anomaly:\n",
    "\n",
    "$$\n",
    "\\log SCC = \\log C_0 - \\log N - \\log E + \\log \\eta - \\log (1 - \\eta)\n",
    "$$"
   ]
  },
  {
   "cell_type": "code",
   "execution_count": null,
   "metadata": {},
   "outputs": [],
   "source": [
    "from src.plots import plot1011\n",
    "args_scc = (α, η, i_over_k, K0, γ_1, γ_2)\n",
    "plot1011(pre_jump_res, pre_jump175_res, y_grid_short_2, y_underline, y_underline_higher, args_scc)"
   ]
  },
  {
   "cell_type": "markdown",
   "metadata": {},
   "source": [
    "### Temperature anomalies\n"
   ]
  },
  {
   "cell_type": "code",
   "execution_count": null,
   "metadata": {},
   "outputs": [],
   "source": [
    "from src.simulation import EvolutionState\n",
    "from scipy import interpolate"
   ]
  },
  {
   "cell_type": "code",
   "execution_count": null,
   "metadata": {},
   "outputs": [],
   "source": [
    "e_grid_1 = pre_jump_res[1][\"model_res\"][\"e_tilde\"]\n",
    "e_func_pre_damage = interpolate.interp1d(y_grid_short, e_grid_1)\n",
    "e_grid_long_1 = e_tilde_list[1]\n",
    "e_func_post_damage = [interpolate.interp1d(y_grid_long, e_grid_long_1[i]) for i in range(len(γ_3))]\n",
    "\n",
    "# start simulation\n",
    "e0 = 0\n",
    "y0 = 1.1\n",
    "temp_anol0 = 1.1\n",
    "y_underline = 1.5\n",
    "y_overline = 2.\n",
    "initial_state = EvolutionState(t=0,\n",
    "                               prob=1,\n",
    "                               damage_jump_state='pre',\n",
    "                               damage_jump_loc=None,\n",
    "                               variables=[e0, y0, temp_anol0],\n",
    "                               y_underline=y_underline,\n",
    "                               y_overline=y_overline)\n",
    "\n",
    "fun_args = (e_func_pre_damage, e_func_post_damage)\n",
    "\n",
    "T = 410\n",
    "sim_res = []\n",
    "temp_anols = []\n",
    "probs = []\n",
    "damage_locs = []\n",
    "sim_res.append([initial_state])\n",
    "for i in range(T):\n",
    "    if i == 0:\n",
    "        states = initial_state.evolve(np.mean(θ_list), fun_args)\n",
    "    else:\n",
    "        temp = []\n",
    "        for state in states:\n",
    "            temp += state.evolve(np.mean(θ_list), fun_args)\n",
    "        states = temp\n",
    "    tempanol_t = []\n",
    "    probs_t = []\n",
    "    damage_loc_t = []\n",
    "    for state in states:\n",
    "        tempanol_t.append( state.variables[2] )\n",
    "        probs_t.append( state.prob )\n",
    "        damage_loc_t.append( state.damage_jump_loc )\n",
    "\n",
    "    temp_anols.append(tempanol_t)\n",
    "    probs.append(probs_t)\n",
    "    damage_locs.append(damage_loc_t)\n",
    "    sim_res.append(states)"
   ]
  },
  {
   "cell_type": "code",
   "execution_count": null,
   "metadata": {
    "scrolled": false
   },
   "outputs": [],
   "source": [
    "fig = go.Figure()\n",
    "\n",
    "fig.add_trace(go.Scatter(x=γ_3, y=[state.variables[0] for state in sim_res[233][:20]]))\n",
    "fig.update_xaxes(range=[-0.01, 1./3], showline=True, title=r\"$\\gamma_3$\")\n",
    "fig.update_yaxes(title=\"Emission\", range=[0, 10])"
   ]
  }
 ],
 "metadata": {
  "kernelspec": {
   "display_name": "Python 3",
   "language": "python",
   "name": "python3"
  },
  "language_info": {
   "codemirror_mode": {
    "name": "ipython",
    "version": 3
   },
   "file_extension": ".py",
   "mimetype": "text/x-python",
   "name": "python",
   "nbconvert_exporter": "python",
   "pygments_lexer": "ipython3",
   "version": "3.8.5"
  }
 },
 "nbformat": 4,
 "nbformat_minor": 5
}
