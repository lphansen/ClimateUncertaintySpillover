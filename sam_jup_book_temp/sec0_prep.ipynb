{
 "cells": [
  {
   "cell_type": "markdown",
   "metadata": {},
   "source": [
    "# 0 Starting\n",
    "\n",
    "Welcome to our project.\n",
    "Please read through to access the code."
   ]
  },
  {
   "cell_type": "code",
   "execution_count": 32,
   "metadata": {},
   "outputs": [
    {
     "data": {
      "text/markdown": [
       "# Climate Change Uncertainty Spillover in the Macroeconomy\n",
       "This repository contains codes and jupyter notebooks which compute and demonstrate results of \"Climate Change Uncertainty Spillover in the Macroeconomy\" by [Micheal Barnett][id1], [William Brock][id2] and [Lars Peter Hansen][id3]. Latest version could be found [here][id4].\n",
       "\n",
       "For further detail of computation, see also: [online documentation](https://climateuncertaintyspillover.readthedocs.io/en/latest/)\n",
       "\n",
       "[id1]: tocomplete\n",
       "[id2]: https://economics.missouri.edu/people/brock\n",
       "[id3]: https://larspeterhansen.org/\n",
       "[id4]: https://larspeterhansen.org/research/papers/\n",
       "\n",
       "## Table of contents\n",
       "- [Prerequisite](#prerequisite)\n",
       "- [Acessing our project](#acessing)\n",
       "- [Quick user's guide](#quick-guide)\n",
       "\n",
       "## <a name=\"prerequisite\"></a>Prerequisite\n",
       "`Python == 3.8.x`, package manager such as `pip`,  and `jupyter notebook` to checkout the notebooks.\n",
       "\n",
       "To go to the documentation of this project, please go to: (link avaliable when published).\n",
       "\n",
       "This project has been tested in an environment with\n",
       "> `Python == 3.8.7` and  `jupyter notebook == 5.7.10`\n",
       "\n",
       "## <a name=\"acessing\"></a>Acessing our project\n",
       "To access our notebook binder, click below:\n",
       "\n",
       "[![Binder](https://mybinder.org/badge_logo.svg)](https://mybinder.org/v2/gh/lphansen/ClimateUncertaintySpillover.git/macroAnnual_v2?filepath=sec0_prep.ipynb)\n",
       "\n",
       "To store the notebook as well as codes in your local machine. You can do this by following steps below:\n",
       "\n",
       "1.  Open a Windows command prompt, Mac terminal or Linux terminal and change into the folder you would like to store the files.\n",
       " \t-  You can do this using the command `cd` in the command prompt (on Windows) or terminal (on Mac and Linux).\n",
       "        - For example, running `cd 'C:\\Users\\username\\python'` (don’t forget '' around the path name to use an absolute path) would lead me to my designated folder.\n",
       "\n",
       "    ```bash\n",
       "    $ cd [folder path name]\n",
       "    ```\n",
       "\n",
       "2.  Clone the github repository for the paper\n",
       "    - If you don’t have github installed, try installing it from this page: https://git-scm.com/download.\n",
       "    - You can do this by running below in the command prompt:\n",
       "\n",
       "    ```bash\n",
       "    $ git clone https://github.com/lphansen/WrestlingClimatie.git\n",
       "    ```\n",
       "\n",
       "3.  Change directories into the ‘Wrestling’ folder and install the required packages for the current user or your initiated virtual environment:\n",
       "\n",
       "    ```bash\n",
       "    $ cd WrestlingClimate\n",
       "    $ pip install -r requirements.txt\n",
       "    ```\n",
       "4. Access the notebooks, run the following under the folder `WrestlingClimate/`:\n",
       "\n",
       "    ```bash\n",
       "    $ jupyter notebook\n",
       "    ```\n",
       "    and you will see the notebooks listed below.\n",
       "\n",
       "    Then click <button type = \"button\" name=\"runall\">Run all</button> from <button type=\"runtime\" name=\"runtime\">runtime</button> to see our results.\n",
       "\n",
       "## <a name=\"quick-guide\"></a>Quick user's guide\n",
       "\n",
       "description of notebooks' contents\n",
       "\n",
       "The notebooks are separated according to section in the paper.\n",
       "- Section 1: [Introduction](sec1_Introduction.ipynb)\n",
       "- Section 2: [Climate Dynamics](sec2_UncertainClimateDynamics.ipynb)\n",
       "- Section 3: [Uncertain Damage](sec3_UncertainDamage.ipynb)\n",
       "- Section 4: [Illustrative Economy I: Uncertain Damages](sec4_IllustrativeEconI.ipynb)\n",
       "- Section 5: [Illustrative Economy II: Uncertainty Decomposition](sec5_IllustrativeEconII.ipynb)\n",
       "- Section 6: [Illustrative Economy III: Carbon abatement technology](sec6_IllustrativeEconIII.ipynb)\n",
       "- Section 7: [Conclusion](sec7_Conclusion.ipynb)\n",
       "\n",
       "As well as [appendices](appendices.ipynb):\n",
       "- A. Complete model\n",
       "- B. Computation methods\n"
      ],
      "text/plain": [
       "<IPython.core.display.Markdown object>"
      ]
     },
     "metadata": {},
     "output_type": "display_data"
    }
   ],
   "source": [
    "from IPython.display import Markdown, display\n",
    "display(Markdown('README.md'))"
   ]
  },
  {
   "cell_type": "code",
   "execution_count": null,
   "metadata": {},
   "outputs": [],
   "source": []
  }
 ],
 "metadata": {
  "kernelspec": {
   "display_name": "Python 3",
   "language": "python",
   "name": "python3"
  },
  "language_info": {
   "codemirror_mode": {
    "name": "ipython",
    "version": 3
   },
   "file_extension": ".py",
   "mimetype": "text/x-python",
   "name": "python",
   "nbconvert_exporter": "python",
   "pygments_lexer": "ipython3",
   "version": "3.8.5"
  }
 },
 "nbformat": 4,
 "nbformat_minor": 4
}
